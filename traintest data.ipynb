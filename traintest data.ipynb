{
 "cells": [
  {
   "cell_type": "code",
   "execution_count": 4,
   "metadata": {},
   "outputs": [],
   "source": [
    "import pandas as pd\n",
    "import glob\n",
    "import os\n",
    "\n",
    "# Define the path where the CSV files are located\n",
    "folder_path = \"C:/Users/Hp/Desktop/Intelligent Systems/data\"\n",
    "# Get all CSV files matching the pattern 'Scat_number_*' in the folder\n",
    "csv_files = glob.glob(os.path.join(folder_path, \"Scat_number_*.csv\"))\n",
    "\n",
    "# Iterate through each CSV file\n",
    "for file_path in csv_files:\n",
    "    # Load the CSV file\n",
    "    data = pd.read_csv(file_path)\n",
    "\n",
    "    # Convert the 'Date' column to datetime format\n",
    "    data['Date'] = pd.to_datetime(data['Date'])\n",
    "\n",
    "    # Extract unique days from the 'Date' column\n",
    "    unique_days = data['Date'].dt.date.unique()\n",
    "\n",
    "    # Randomly select 4 days for the test set\n",
    "    test_days = pd.Series(unique_days).sample(4, random_state=42)\n",
    "\n",
    "    # Split the data into train and test sets\n",
    "    test_data = data[data['Date'].dt.date.isin(test_days)]\n",
    "    train_data = data[~data['Date'].dt.date.isin(test_days)]\n",
    "\n",
    "    # Generate filenames for train and test data\n",
    "    base_name = os.path.basename(file_path).replace(\".csv\", \"\")\n",
    "    train_file = os.path.join(folder_path, f\"{base_name}_train.csv\")\n",
    "    test_file = os.path.join(folder_path, f\"{base_name}_test.csv\")\n",
    "\n",
    "    # Save the train and test datasets to separate CSV files\n",
    "    train_data.to_csv(train_file, index=False)\n",
    "    test_data.to_csv(test_file, index=False)\n"
   ]
  }
 ],
 "metadata": {
  "kernelspec": {
   "display_name": "Python 3",
   "language": "python",
   "name": "python3"
  },
  "language_info": {
   "codemirror_mode": {
    "name": "ipython",
    "version": 3
   },
   "file_extension": ".py",
   "mimetype": "text/x-python",
   "name": "python",
   "nbconvert_exporter": "python",
   "pygments_lexer": "ipython3",
   "version": "3.9.2"
  }
 },
 "nbformat": 4,
 "nbformat_minor": 2
}
