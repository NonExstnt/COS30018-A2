{
 "cells": [
  {
   "cell_type": "code",
   "execution_count": 1,
   "metadata": {
    "collapsed": true,
    "ExecuteTime": {
     "end_time": "2024-10-28T14:57:20.408503900Z",
     "start_time": "2024-10-28T14:57:11.599640100Z"
    }
   },
   "outputs": [],
   "source": [
    "from route_predictor import RoutePredictor\n",
    "\n",
    "import pandas as pd\n",
    "\n",
    "scats_data = r\"C:\\Users\\ASUS\\OneDrive\\Semester 3\\Intelligent System\\Assignment\\Datasets\\Scats Data October 2006.csv\"\n",
    "scats_listing = r\"C:\\Users\\ASUS\\OneDrive\\Semester 3\\Intelligent System\\Assignment\\Datasets\\SCATS Site Listing.csv\"\n",
    "\n",
    "route = RoutePredictor(scats_data, scats_listing)"
   ]
  },
  {
   "cell_type": "code",
   "execution_count": 2,
   "outputs": [
    {
     "name": "stdout",
     "output_type": "stream",
     "text": [
      "Error getting time distance for site combination 970 4266\n",
      "Error msg: index 0 is out of bounds for axis 0 with size 0\n",
      "Error getting time distance for site combination 2000 4266\n",
      "Error msg: index 0 is out of bounds for axis 0 with size 0\n",
      "Error getting time distance for site combination 2200 4266\n",
      "Error msg: index 0 is out of bounds for axis 0 with size 0\n",
      "Error getting time distance for site combination 2820 4266\n",
      "Error msg: index 0 is out of bounds for axis 0 with size 0\n",
      "Error getting time distance for site combination 2825 4266\n",
      "Error msg: index 0 is out of bounds for axis 0 with size 0\n",
      "Error getting time distance for site combination 2827 4266\n",
      "Error msg: index 0 is out of bounds for axis 0 with size 0\n",
      "Error getting time distance for site combination 2846 4266\n",
      "Error msg: index 0 is out of bounds for axis 0 with size 0\n",
      "Error getting time distance for site combination 3001 4266\n",
      "Error msg: index 0 is out of bounds for axis 0 with size 0\n",
      "Error getting time distance for site combination 3002 4266\n",
      "Error msg: index 0 is out of bounds for axis 0 with size 0\n",
      "Error getting time distance for site combination 3120 4266\n",
      "Error msg: index 0 is out of bounds for axis 0 with size 0\n",
      "Error getting time distance for site combination 3122 4266\n",
      "Error msg: index 0 is out of bounds for axis 0 with size 0\n",
      "Error getting time distance for site combination 3126 4266\n",
      "Error msg: index 0 is out of bounds for axis 0 with size 0\n",
      "Error getting time distance for site combination 3127 4266\n",
      "Error msg: index 0 is out of bounds for axis 0 with size 0\n",
      "Error getting time distance for site combination 3180 4266\n",
      "Error msg: index 0 is out of bounds for axis 0 with size 0\n",
      "Error getting time distance for site combination 3662 4266\n",
      "Error msg: index 0 is out of bounds for axis 0 with size 0\n",
      "Error getting time distance for site combination 3682 4266\n",
      "Error msg: index 0 is out of bounds for axis 0 with size 0\n",
      "Error getting time distance for site combination 3685 4266\n",
      "Error msg: index 0 is out of bounds for axis 0 with size 0\n",
      "Error getting time distance for site combination 3804 4266\n",
      "Error msg: index 0 is out of bounds for axis 0 with size 0\n",
      "Error getting time distance for site combination 3812 4266\n",
      "Error msg: index 0 is out of bounds for axis 0 with size 0\n",
      "Error getting time distance for site combination 4030 4266\n",
      "Error msg: index 0 is out of bounds for axis 0 with size 0\n",
      "Error getting time distance for site combination 4032 4266\n",
      "Error msg: index 0 is out of bounds for axis 0 with size 0\n",
      "Error getting time distance for site combination 4034 4266\n",
      "Error msg: index 0 is out of bounds for axis 0 with size 0\n",
      "Error getting time distance for site combination 4035 4266\n",
      "Error msg: index 0 is out of bounds for axis 0 with size 0\n",
      "Error getting time distance for site combination 4040 4266\n",
      "Error msg: index 0 is out of bounds for axis 0 with size 0\n",
      "Error getting time distance for site combination 4043 4266\n",
      "Error msg: index 0 is out of bounds for axis 0 with size 0\n",
      "Error getting time distance for site combination 4051 4266\n",
      "Error msg: index 0 is out of bounds for axis 0 with size 0\n",
      "Error getting time distance for site combination 4057 4266\n",
      "Error msg: index 0 is out of bounds for axis 0 with size 0\n",
      "Error getting time distance for site combination 4063 4266\n",
      "Error msg: index 0 is out of bounds for axis 0 with size 0\n",
      "Error getting time distance for site combination 4262 4266\n",
      "Error msg: index 0 is out of bounds for axis 0 with size 0\n",
      "Error getting time distance for site combination 4263 4266\n",
      "Error msg: index 0 is out of bounds for axis 0 with size 0\n",
      "Error getting time distance for site combination 4264 4266\n",
      "Error msg: index 0 is out of bounds for axis 0 with size 0\n",
      "Error getting time distance for site combination 4266 4270\n",
      "Error msg: index 0 is out of bounds for axis 0 with size 0\n",
      "Error getting time distance for site combination 4266 4272\n",
      "Error msg: index 0 is out of bounds for axis 0 with size 0\n",
      "Error getting time distance for site combination 4266 4273\n",
      "Error msg: index 0 is out of bounds for axis 0 with size 0\n",
      "Error getting time distance for site combination 4266 4321\n",
      "Error msg: index 0 is out of bounds for axis 0 with size 0\n",
      "Error getting time distance for site combination 4266 4324\n",
      "Error msg: index 0 is out of bounds for axis 0 with size 0\n",
      "Error getting time distance for site combination 4266 4335\n",
      "Error msg: index 0 is out of bounds for axis 0 with size 0\n",
      "Error getting time distance for site combination 4266 4812\n",
      "Error msg: index 0 is out of bounds for axis 0 with size 0\n",
      "Error getting time distance for site combination 4266 4821\n",
      "Error msg: index 0 is out of bounds for axis 0 with size 0\n"
     ]
    },
    {
     "data": {
      "text/plain": "     Site1  Site2  Distance (km)  Time distance\n0      970   2000       1.720630      41.842269\n1      970   2200       5.658856     158.090583\n2      970   2820       9.643339     401.975975\n3      970   2825       9.297955     375.807845\n4      970   2827       9.638626     401.612443\n..     ...    ...            ...            ...\n736   4324   4812       2.823442      61.887295\n737   4324   4821       2.568315      56.384963\n738   4335   4812       2.979349      65.506071\n739   4335   4821       2.462146      54.248650\n740   4812   4821       1.882038      44.168273\n\n[741 rows x 4 columns]",
      "text/html": "<div>\n<style scoped>\n    .dataframe tbody tr th:only-of-type {\n        vertical-align: middle;\n    }\n\n    .dataframe tbody tr th {\n        vertical-align: top;\n    }\n\n    .dataframe thead th {\n        text-align: right;\n    }\n</style>\n<table border=\"1\" class=\"dataframe\">\n  <thead>\n    <tr style=\"text-align: right;\">\n      <th></th>\n      <th>Site1</th>\n      <th>Site2</th>\n      <th>Distance (km)</th>\n      <th>Time distance</th>\n    </tr>\n  </thead>\n  <tbody>\n    <tr>\n      <th>0</th>\n      <td>970</td>\n      <td>2000</td>\n      <td>1.720630</td>\n      <td>41.842269</td>\n    </tr>\n    <tr>\n      <th>1</th>\n      <td>970</td>\n      <td>2200</td>\n      <td>5.658856</td>\n      <td>158.090583</td>\n    </tr>\n    <tr>\n      <th>2</th>\n      <td>970</td>\n      <td>2820</td>\n      <td>9.643339</td>\n      <td>401.975975</td>\n    </tr>\n    <tr>\n      <th>3</th>\n      <td>970</td>\n      <td>2825</td>\n      <td>9.297955</td>\n      <td>375.807845</td>\n    </tr>\n    <tr>\n      <th>4</th>\n      <td>970</td>\n      <td>2827</td>\n      <td>9.638626</td>\n      <td>401.612443</td>\n    </tr>\n    <tr>\n      <th>...</th>\n      <td>...</td>\n      <td>...</td>\n      <td>...</td>\n      <td>...</td>\n    </tr>\n    <tr>\n      <th>736</th>\n      <td>4324</td>\n      <td>4812</td>\n      <td>2.823442</td>\n      <td>61.887295</td>\n    </tr>\n    <tr>\n      <th>737</th>\n      <td>4324</td>\n      <td>4821</td>\n      <td>2.568315</td>\n      <td>56.384963</td>\n    </tr>\n    <tr>\n      <th>738</th>\n      <td>4335</td>\n      <td>4812</td>\n      <td>2.979349</td>\n      <td>65.506071</td>\n    </tr>\n    <tr>\n      <th>739</th>\n      <td>4335</td>\n      <td>4821</td>\n      <td>2.462146</td>\n      <td>54.248650</td>\n    </tr>\n    <tr>\n      <th>740</th>\n      <td>4812</td>\n      <td>4821</td>\n      <td>1.882038</td>\n      <td>44.168273</td>\n    </tr>\n  </tbody>\n</table>\n<p>741 rows × 4 columns</p>\n</div>"
     },
     "execution_count": 2,
     "metadata": {},
     "output_type": "execute_result"
    }
   ],
   "source": [
    "from datetime import datetime\n",
    "\n",
    "site_to_site_with_time = route.get_all_time_distances(datetime(2006, 10, 3, 10))\n",
    "site_to_site_with_time"
   ],
   "metadata": {
    "collapsed": false,
    "ExecuteTime": {
     "end_time": "2024-10-28T14:58:07.490988100Z",
     "start_time": "2024-10-28T14:57:20.415009800Z"
    }
   }
  },
  {
   "cell_type": "code",
   "execution_count": null,
   "outputs": [],
   "source": [
    "# route.get_neighbours_with_time_distances(2000, datetime(2006, 10, 3, 10))"
   ],
   "metadata": {
    "collapsed": false
   }
  },
  {
   "cell_type": "code",
   "execution_count": null,
   "outputs": [],
   "source": [],
   "metadata": {
    "collapsed": false
   }
  }
 ],
 "metadata": {
  "kernelspec": {
   "display_name": "Python 3",
   "language": "python",
   "name": "python3"
  },
  "language_info": {
   "codemirror_mode": {
    "name": "ipython",
    "version": 2
   },
   "file_extension": ".py",
   "mimetype": "text/x-python",
   "name": "python",
   "nbconvert_exporter": "python",
   "pygments_lexer": "ipython2",
   "version": "2.7.6"
  }
 },
 "nbformat": 4,
 "nbformat_minor": 0
}
